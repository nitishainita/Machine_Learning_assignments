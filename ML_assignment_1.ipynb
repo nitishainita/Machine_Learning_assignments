{
  "nbformat": 4,
  "nbformat_minor": 0,
  "metadata": {
    "colab": {
      "provenance": []
    },
    "kernelspec": {
      "name": "python3",
      "display_name": "Python 3"
    },
    "language_info": {
      "name": "python"
    }
  },
  "cells": [
    {
      "cell_type": "markdown",
      "source": [
        "1. What does one mean by the term \"machine learning\"?"
      ],
      "metadata": {
        "id": "FPYsAX8CTGku"
      }
    },
    {
      "cell_type": "markdown",
      "source": [
        "Machine learning is a one of the form of artificial intelligence. we can define the machine learning as 'the use and development of computer systems that are able to learn and adopt without following explitcit indstructions by using alogorithms and statistical models to analyse and draw inferences from patterns in data'. this has 3 types \n",
        "\n",
        "1-supervised machine learning \n",
        "\n",
        "2-unsupervised machine learning\n",
        "\n",
        "3-reinforcement learing"
      ],
      "metadata": {
        "id": "-DsQUZ40TOyH"
      }
    },
    {
      "cell_type": "markdown",
      "source": [
        "2.Can you think of 4 distinct types of issues where it shines?"
      ],
      "metadata": {
        "id": "ypeGxUsxWfHi"
      }
    },
    {
      "cell_type": "markdown",
      "source": [
        "four distinct type of essues where machine learning is shines are given as -\n",
        "\n",
        "a)Fake news detection\n",
        "\n",
        "b)cancer diagnosis\n",
        "\n",
        "c)insurance claim fraude detection\n",
        "\n",
        "d)admission prediction system and etc"
      ],
      "metadata": {
        "id": "7T1B0L_fXiD0"
      }
    },
    {
      "cell_type": "markdown",
      "source": [
        "**3.What is a labeled training set, and how does it work?**"
      ],
      "metadata": {
        "id": "CTtIhJXZY2qA"
      }
    },
    {
      "cell_type": "markdown",
      "source": [
        "Labeled training set is a set of data whare required(desired) result column(lable) is known so that supervised machine learing algorithm can learn from data and give the best result.this set is used for training purpose."
      ],
      "metadata": {
        "id": "Xt7UnAUjY9v1"
      }
    },
    {
      "cell_type": "markdown",
      "source": [
        "**4.What are the two most important tasks that are supervised?**"
      ],
      "metadata": {
        "id": "ja9gKpi7Z3o3"
      }
    },
    {
      "cell_type": "markdown",
      "source": [
        "The most important tasks in supervised  machine leaning  are -\n",
        "\n",
        "1-regression->where we get a numerical values a result.\n",
        "\n",
        "2-classification->where we get caregorical values as a result."
      ],
      "metadata": {
        "id": "hLGosyXLaZbM"
      }
    },
    {
      "cell_type": "markdown",
      "source": [
        "**5.Can you think of four examples of unsupervised tasks?**"
      ],
      "metadata": {
        "id": "hv6WIXUVa4W3"
      }
    },
    {
      "cell_type": "markdown",
      "source": [
        "four example of unsupervised tasks are-\n",
        "\n",
        "1) clustering->divide the dataset in different clusters(groups) accoring to their behaviour.\n",
        "\n",
        "2) dimentionality reduction->Dimensionality reduction is a technique used when the number of features, or dimensions, in a given dataset is too high. It reduces the number of data inputs to a manageable size while also preserving the integrity of the dataset as much as possible.\n",
        "\n",
        "3) Association Rules->An association rule is a rule-based method for finding relationships between variables in a given dataset.\n",
        "\n",
        "4) Visualization->used to visualize the data i the graphical or tabular form."
      ],
      "metadata": {
        "id": "2IoE3tqobDqI"
      }
    },
    {
      "cell_type": "markdown",
      "source": [
        "**6.State the machine learning model that would be best to make a robot walk through various unfamiliar terrains?**"
      ],
      "metadata": {
        "id": "XCBCNilRdL1f"
      }
    },
    {
      "cell_type": "markdown",
      "source": [
        "Reinforcement learing would be the best learning approach ,i guess, as it allows the agents to learn from reward or punish given by the envoirnment."
      ],
      "metadata": {
        "id": "78sPV5ZsdX0y"
      }
    },
    {
      "cell_type": "markdown",
      "source": [
        "**7.Which algorithm will you use to divide your customers into different groups?**"
      ],
      "metadata": {
        "id": "JYxQ1z8KedOA"
      }
    },
    {
      "cell_type": "markdown",
      "source": [
        "ther are may be two cases-\n",
        "\n",
        "case1->where the types of group is gievn then we use classification algorithms on the dataset.\n",
        "\n",
        "case2->where the types of costomer group is not known the we can clustering algoritms(eg. K-Means)."
      ],
      "metadata": {
        "id": "Xyw2t6llelRF"
      }
    },
    {
      "cell_type": "markdown",
      "source": [
        "**8.Will you consider the problem of spam detection to be a supervised or unsupervised learning problem?**"
      ],
      "metadata": {
        "id": "Lk08RELCfbnu"
      }
    },
    {
      "cell_type": "markdown",
      "source": [
        "I would consider this problem as supervised learnig problem as we easily can get labeled dataset."
      ],
      "metadata": {
        "id": "5aUs-rYZftdx"
      }
    },
    {
      "cell_type": "markdown",
      "source": [
        "**9.What is the concept of an online learning system?**"
      ],
      "metadata": {
        "id": "8aIxoAGughyq"
      }
    },
    {
      "cell_type": "markdown",
      "source": [
        "An online learning system learns from new data on-the-fly. As a result, the system is trained incrementally either by using one example at a time or using a mini-batch approach. This keeps each learning step cheap and memory efficient.(copied from the internet)"
      ],
      "metadata": {
        "id": "_B13Lh95gkXZ"
      }
    },
    {
      "cell_type": "markdown",
      "source": [
        "**10.What is out-of-core learning, and how does it differ from core learning?**"
      ],
      "metadata": {
        "id": "1qOCps4viAjG"
      }
    },
    {
      "cell_type": "markdown",
      "source": [
        "Out-of-core leanring refers to the machine learning algorithms working with data cannot fit into the memory of a single machine, but that can easily fit into some data storage such as local hard disk or web repository.where as core-learing refers to the machine learing algoritms working with the data can fit into the memmory of single machine."
      ],
      "metadata": {
        "id": "9OkZ5QQsh_6P"
      }
    },
    {
      "cell_type": "markdown",
      "source": [
        "**11.What kind of learning algorithm makes predictions using a similarity measure?**"
      ],
      "metadata": {
        "id": "9gbp3t434Ev3"
      }
    },
    {
      "cell_type": "markdown",
      "source": [
        "instance-based learning algorithm makes prediction using similarity measure"
      ],
      "metadata": {
        "id": "YfyOnkjv4yIm"
      }
    },
    {
      "cell_type": "markdown",
      "source": [
        "## **12.What's the difference between a model parameter and a hyperparameter in a learning algorithm?**"
      ],
      "metadata": {
        "id": "WCQKkjjs8tX8"
      }
    },
    {
      "cell_type": "markdown",
      "source": [
        "A **model parameter** is a configuration variable that is internal to the model and whose **value can be estimated from the given data**. They are required by the model when making predictions. Their values define the skill of the model on your problem.\n",
        "\n",
        "**Hyperparameters** in Machine learning are those parameters that are explicitly defined by the user to control the learning process. These hyperparameters are used to improve the learning of the model, and their **values are set before starting the learning process of the model.**\n",
        "\n",
        "\n",
        "example->A hyperparameter is a parameter of the learning algorithm, not the model. For example, in a simple linear regression problem our model is parameterized by theta which is a vector of weights. In order to find the best values for theta we have a cost function which is run repeatedly by the gradient descent algorithm. Gradient descent has a hyperparameter called alpha which is the learning rate of the algorithm."
      ],
      "metadata": {
        "id": "hSeHE-uf8vxG"
      }
    },
    {
      "cell_type": "markdown",
      "source": [
        "**13.What are the criteria that model-based learning algorithms look for? What is the most popular method they use to achieve success? What method do they use to make predictions?**"
      ],
      "metadata": {
        "id": "bUMeVBM--pI8"
      }
    },
    {
      "cell_type": "markdown",
      "source": [
        "The criteria that model based learning algorithms look for is to get best values of parameters.\n",
        "\n",
        "after-all model intention is clear that it should minimize the cost by adjusting its hyperparameters and with the help of new training data.\n",
        "\n",
        "model is doing the prediction based on new instance and parameter got during traing of that model."
      ],
      "metadata": {
        "id": "dFta5qYf-1sC"
      }
    },
    {
      "cell_type": "markdown",
      "source": [
        "**14.Can you name four of the most important Machine Learning challenges?**"
      ],
      "metadata": {
        "id": "GfKEMYiiBg05"
      }
    },
    {
      "cell_type": "markdown",
      "source": [
        "There are four most important challenges in machine learning as->\n",
        "\n",
        "1- Poor Quality of Data.\n",
        "\n",
        "2-Overfitting problem(can be resolve using regulrization)\n",
        "\n",
        "3-Underfitting Problem(can be resolve using regularization)\n",
        "\n",
        "4-lack of training data and complex model etc."
      ],
      "metadata": {
        "id": "OLxUYwueB01q"
      }
    },
    {
      "cell_type": "markdown",
      "source": [
        "**15.What happens if the model performs well on the training data but fails to generalize the results to new situations? Can you think of three different options?**"
      ],
      "metadata": {
        "id": "x358XqQKDnXl"
      }
    },
    {
      "cell_type": "markdown",
      "source": [
        "if this happens it mean our model is overfitted-one so we can reslove this problem by some ways calles as->\n",
        "\n",
        "1->Get more data\n",
        "\n",
        "2->simplify the model\n",
        "\n",
        "3->Reduce noise in the training data by fixing errors and removing outliers\n",
        "\n",
        "thies techniques called as regularization"
      ],
      "metadata": {
        "id": "vRxZQQQIEDnI"
      }
    },
    {
      "cell_type": "markdown",
      "source": [
        "**16.What exactly is a test set, and why would you need one?**"
      ],
      "metadata": {
        "id": "Vc3bnr9CFGDv"
      }
    },
    {
      "cell_type": "markdown",
      "source": [
        "Test set is set of data which is unseen to the model and we need that because be want to check the results in fair way , if check the prediction of trained data then model might give result based on memorising insted of learning."
      ],
      "metadata": {
        "id": "t9ejBxsIFRYs"
      }
    },
    {
      "cell_type": "markdown",
      "source": [
        "**17.What is a validation set's purpose?**"
      ],
      "metadata": {
        "id": "puupvLLNF8YO"
      }
    },
    {
      "cell_type": "markdown",
      "source": [
        "Validation set is used to compare between the models(differ by hyperparameter tuning) and this is helping to select the best model for our need."
      ],
      "metadata": {
        "id": "pOxdissqGgQQ"
      }
    },
    {
      "cell_type": "markdown",
      "source": [
        "18.What precisely is the train-dev kit, when will you need it, how do you put it to use?"
      ],
      "metadata": {
        "id": "KLyYoFKAG-kS"
      }
    },
    {
      "cell_type": "markdown",
      "source": [
        "it is a training and validation dataset which is used to  train and validate the model.\n",
        "\n",
        "we use training dataset at time of traning the model\n",
        "\n",
        "we use validate dataset at time of selecting the best model for our prediction"
      ],
      "metadata": {
        "id": "ACpMuyKqHDVO"
      }
    },
    {
      "cell_type": "markdown",
      "source": [
        "**19.What could go wrong if you use the test set to tune hyperparameters?**"
      ],
      "metadata": {
        "id": "gdkwwqyXId0u"
      }
    },
    {
      "cell_type": "markdown",
      "source": [
        "If this is the case then our model would not be good for new data because it is already trained on specific data."
      ],
      "metadata": {
        "id": "kDiK_BU1I6Qq"
      }
    }
  ]
}